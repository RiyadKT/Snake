{
 "cells": [
  {
   "cell_type": "markdown",
   "metadata": {},
   "source": [
    "## This code provides a neural network (CNN) solution of the snake game\n"
   ]
  },
  {
   "cell_type": "markdown",
   "metadata": {},
   "source": [
    "Importing useful functions"
   ]
  },
  {
   "cell_type": "code",
   "execution_count": 2,
   "metadata": {},
   "outputs": [],
   "source": [
    "from snake_functions import game,draw,next"
   ]
  },
  {
   "cell_type": "code",
   "execution_count": 61,
   "metadata": {},
   "outputs": [],
   "source": [
    "from snake_resol import find_shortest_path,find_food"
   ]
  },
  {
   "cell_type": "markdown",
   "metadata": {},
   "source": [
    "Game dimensions"
   ]
  },
  {
   "cell_type": "code",
   "execution_count": 3,
   "metadata": {},
   "outputs": [],
   "source": [
    "n,m=8,8"
   ]
  },
  {
   "cell_type": "markdown",
   "metadata": {},
   "source": [
    "Package installation"
   ]
  },
  {
   "cell_type": "code",
   "execution_count": null,
   "metadata": {},
   "outputs": [],
   "source": [
    "!pip install tensorflow keras\n"
   ]
  },
  {
   "cell_type": "markdown",
   "metadata": {},
   "source": [
    "CNN definition"
   ]
  },
  {
   "cell_type": "code",
   "execution_count": 2,
   "metadata": {},
   "outputs": [
    {
     "name": "stderr",
     "output_type": "stream",
     "text": [
      "/Library/Frameworks/Python.framework/Versions/3.12/lib/python3.12/site-packages/keras/src/layers/convolutional/base_conv.py:99: UserWarning: Do not pass an `input_shape`/`input_dim` argument to a layer. When using Sequential models, prefer using an `Input(shape)` object as the first layer in the model instead.\n",
      "  super().__init__(\n"
     ]
    },
    {
     "data": {
      "text/html": [
       "<pre style=\"white-space:pre;overflow-x:auto;line-height:normal;font-family:Menlo,'DejaVu Sans Mono',consolas,'Courier New',monospace\"><span style=\"font-weight: bold\">Model: \"sequential\"</span>\n",
       "</pre>\n"
      ],
      "text/plain": [
       "\u001b[1mModel: \"sequential\"\u001b[0m\n"
      ]
     },
     "metadata": {},
     "output_type": "display_data"
    },
    {
     "data": {
      "text/html": [
       "<pre style=\"white-space:pre;overflow-x:auto;line-height:normal;font-family:Menlo,'DejaVu Sans Mono',consolas,'Courier New',monospace\">┏━━━━━━━━━━━━━━━━━━━━━━━━━━━━━━━━━┳━━━━━━━━━━━━━━━━━━━━━━━━┳━━━━━━━━━━━━━━━┓\n",
       "┃<span style=\"font-weight: bold\"> Layer (type)                    </span>┃<span style=\"font-weight: bold\"> Output Shape           </span>┃<span style=\"font-weight: bold\">       Param # </span>┃\n",
       "┡━━━━━━━━━━━━━━━━━━━━━━━━━━━━━━━━━╇━━━━━━━━━━━━━━━━━━━━━━━━╇━━━━━━━━━━━━━━━┩\n",
       "│ conv2d (<span style=\"color: #0087ff; text-decoration-color: #0087ff\">Conv2D</span>)                 │ (<span style=\"color: #00d7ff; text-decoration-color: #00d7ff\">None</span>, <span style=\"color: #00af00; text-decoration-color: #00af00\">8</span>, <span style=\"color: #00af00; text-decoration-color: #00af00\">8</span>, <span style=\"color: #00af00; text-decoration-color: #00af00\">32</span>)       │           <span style=\"color: #00af00; text-decoration-color: #00af00\">896</span> │\n",
       "├─────────────────────────────────┼────────────────────────┼───────────────┤\n",
       "│ max_pooling2d (<span style=\"color: #0087ff; text-decoration-color: #0087ff\">MaxPooling2D</span>)    │ (<span style=\"color: #00d7ff; text-decoration-color: #00d7ff\">None</span>, <span style=\"color: #00af00; text-decoration-color: #00af00\">4</span>, <span style=\"color: #00af00; text-decoration-color: #00af00\">4</span>, <span style=\"color: #00af00; text-decoration-color: #00af00\">32</span>)       │             <span style=\"color: #00af00; text-decoration-color: #00af00\">0</span> │\n",
       "├─────────────────────────────────┼────────────────────────┼───────────────┤\n",
       "│ conv2d_1 (<span style=\"color: #0087ff; text-decoration-color: #0087ff\">Conv2D</span>)               │ (<span style=\"color: #00d7ff; text-decoration-color: #00d7ff\">None</span>, <span style=\"color: #00af00; text-decoration-color: #00af00\">4</span>, <span style=\"color: #00af00; text-decoration-color: #00af00\">4</span>, <span style=\"color: #00af00; text-decoration-color: #00af00\">64</span>)       │        <span style=\"color: #00af00; text-decoration-color: #00af00\">18,496</span> │\n",
       "├─────────────────────────────────┼────────────────────────┼───────────────┤\n",
       "│ global_average_pooling2d        │ (<span style=\"color: #00d7ff; text-decoration-color: #00d7ff\">None</span>, <span style=\"color: #00af00; text-decoration-color: #00af00\">64</span>)             │             <span style=\"color: #00af00; text-decoration-color: #00af00\">0</span> │\n",
       "│ (<span style=\"color: #0087ff; text-decoration-color: #0087ff\">GlobalAveragePooling2D</span>)        │                        │               │\n",
       "├─────────────────────────────────┼────────────────────────┼───────────────┤\n",
       "│ dense (<span style=\"color: #0087ff; text-decoration-color: #0087ff\">Dense</span>)                   │ (<span style=\"color: #00d7ff; text-decoration-color: #00d7ff\">None</span>, <span style=\"color: #00af00; text-decoration-color: #00af00\">64</span>)             │         <span style=\"color: #00af00; text-decoration-color: #00af00\">4,160</span> │\n",
       "├─────────────────────────────────┼────────────────────────┼───────────────┤\n",
       "│ dense_1 (<span style=\"color: #0087ff; text-decoration-color: #0087ff\">Dense</span>)                 │ (<span style=\"color: #00d7ff; text-decoration-color: #00d7ff\">None</span>, <span style=\"color: #00af00; text-decoration-color: #00af00\">4</span>)              │           <span style=\"color: #00af00; text-decoration-color: #00af00\">260</span> │\n",
       "└─────────────────────────────────┴────────────────────────┴───────────────┘\n",
       "</pre>\n"
      ],
      "text/plain": [
       "┏━━━━━━━━━━━━━━━━━━━━━━━━━━━━━━━━━┳━━━━━━━━━━━━━━━━━━━━━━━━┳━━━━━━━━━━━━━━━┓\n",
       "┃\u001b[1m \u001b[0m\u001b[1mLayer (type)                   \u001b[0m\u001b[1m \u001b[0m┃\u001b[1m \u001b[0m\u001b[1mOutput Shape          \u001b[0m\u001b[1m \u001b[0m┃\u001b[1m \u001b[0m\u001b[1m      Param #\u001b[0m\u001b[1m \u001b[0m┃\n",
       "┡━━━━━━━━━━━━━━━━━━━━━━━━━━━━━━━━━╇━━━━━━━━━━━━━━━━━━━━━━━━╇━━━━━━━━━━━━━━━┩\n",
       "│ conv2d (\u001b[38;5;33mConv2D\u001b[0m)                 │ (\u001b[38;5;45mNone\u001b[0m, \u001b[38;5;34m8\u001b[0m, \u001b[38;5;34m8\u001b[0m, \u001b[38;5;34m32\u001b[0m)       │           \u001b[38;5;34m896\u001b[0m │\n",
       "├─────────────────────────────────┼────────────────────────┼───────────────┤\n",
       "│ max_pooling2d (\u001b[38;5;33mMaxPooling2D\u001b[0m)    │ (\u001b[38;5;45mNone\u001b[0m, \u001b[38;5;34m4\u001b[0m, \u001b[38;5;34m4\u001b[0m, \u001b[38;5;34m32\u001b[0m)       │             \u001b[38;5;34m0\u001b[0m │\n",
       "├─────────────────────────────────┼────────────────────────┼───────────────┤\n",
       "│ conv2d_1 (\u001b[38;5;33mConv2D\u001b[0m)               │ (\u001b[38;5;45mNone\u001b[0m, \u001b[38;5;34m4\u001b[0m, \u001b[38;5;34m4\u001b[0m, \u001b[38;5;34m64\u001b[0m)       │        \u001b[38;5;34m18,496\u001b[0m │\n",
       "├─────────────────────────────────┼────────────────────────┼───────────────┤\n",
       "│ global_average_pooling2d        │ (\u001b[38;5;45mNone\u001b[0m, \u001b[38;5;34m64\u001b[0m)             │             \u001b[38;5;34m0\u001b[0m │\n",
       "│ (\u001b[38;5;33mGlobalAveragePooling2D\u001b[0m)        │                        │               │\n",
       "├─────────────────────────────────┼────────────────────────┼───────────────┤\n",
       "│ dense (\u001b[38;5;33mDense\u001b[0m)                   │ (\u001b[38;5;45mNone\u001b[0m, \u001b[38;5;34m64\u001b[0m)             │         \u001b[38;5;34m4,160\u001b[0m │\n",
       "├─────────────────────────────────┼────────────────────────┼───────────────┤\n",
       "│ dense_1 (\u001b[38;5;33mDense\u001b[0m)                 │ (\u001b[38;5;45mNone\u001b[0m, \u001b[38;5;34m4\u001b[0m)              │           \u001b[38;5;34m260\u001b[0m │\n",
       "└─────────────────────────────────┴────────────────────────┴───────────────┘\n"
      ]
     },
     "metadata": {},
     "output_type": "display_data"
    },
    {
     "data": {
      "text/html": [
       "<pre style=\"white-space:pre;overflow-x:auto;line-height:normal;font-family:Menlo,'DejaVu Sans Mono',consolas,'Courier New',monospace\"><span style=\"font-weight: bold\"> Total params: </span><span style=\"color: #00af00; text-decoration-color: #00af00\">23,812</span> (93.02 KB)\n",
       "</pre>\n"
      ],
      "text/plain": [
       "\u001b[1m Total params: \u001b[0m\u001b[38;5;34m23,812\u001b[0m (93.02 KB)\n"
      ]
     },
     "metadata": {},
     "output_type": "display_data"
    },
    {
     "data": {
      "text/html": [
       "<pre style=\"white-space:pre;overflow-x:auto;line-height:normal;font-family:Menlo,'DejaVu Sans Mono',consolas,'Courier New',monospace\"><span style=\"font-weight: bold\"> Trainable params: </span><span style=\"color: #00af00; text-decoration-color: #00af00\">23,812</span> (93.02 KB)\n",
       "</pre>\n"
      ],
      "text/plain": [
       "\u001b[1m Trainable params: \u001b[0m\u001b[38;5;34m23,812\u001b[0m (93.02 KB)\n"
      ]
     },
     "metadata": {},
     "output_type": "display_data"
    },
    {
     "data": {
      "text/html": [
       "<pre style=\"white-space:pre;overflow-x:auto;line-height:normal;font-family:Menlo,'DejaVu Sans Mono',consolas,'Courier New',monospace\"><span style=\"font-weight: bold\"> Non-trainable params: </span><span style=\"color: #00af00; text-decoration-color: #00af00\">0</span> (0.00 B)\n",
       "</pre>\n"
      ],
      "text/plain": [
       "\u001b[1m Non-trainable params: \u001b[0m\u001b[38;5;34m0\u001b[0m (0.00 B)\n"
      ]
     },
     "metadata": {},
     "output_type": "display_data"
    }
   ],
   "source": [
    "import tensorflow as tf\n",
    "import tensorflow.keras.layers as layers\n",
    "import tensorflow.keras.models as models\n",
    "\n",
    "# Example with n=8, m=8 (input_shape can be adjusted to (5, 5, 3) if needed)\n",
    "input_shape = (n, m, 3)\n",
    "\n",
    "model = models.Sequential()\n",
    "\n",
    "# First convolutional layer\n",
    "model.add(layers.Conv2D(32, (3, 3), activation='relu', input_shape=input_shape, padding='same'))\n",
    "model.add(layers.MaxPooling2D((2, 2)))\n",
    "\n",
    "# Second convolutional layer\n",
    "model.add(layers.Conv2D(64, (3, 3), activation='relu', padding='same'))\n",
    "\n",
    "# Global average pooling (instead of MaxPooling to adapt to smaller input sizes)\n",
    "model.add(layers.GlobalAveragePooling2D())\n",
    "\n",
    "# Fully connected layer\n",
    "model.add(layers.Dense(64, activation='relu'))\n",
    "\n",
    "# Output layer (4 neurons for 4 possible directions)\n",
    "model.add(layers.Dense(4, activation='softmax'))\n",
    "\n",
    "# Compile the model\n",
    "model.compile(optimizer='adam', \n",
    "              loss='categorical_crossentropy', \n",
    "              metrics=['accuracy'])\n",
    "\n",
    "# Summary of the model\n",
    "model.summary()\n"
   ]
  },
  {
   "cell_type": "markdown",
   "metadata": {},
   "source": [
    "Redefining Game class to get a reward feedback (useful to avoid infinite movement loops) and highlighting snake head in draw function "
   ]
  },
  {
   "cell_type": "code",
   "execution_count": 40,
   "metadata": {},
   "outputs": [],
   "source": [
    "# Game class representing the Snake game state\n",
    "class Game:\n",
    "    def __init__(self, tab, dir, snake_list, score):\n",
    "        self.tab = tab  # The game grid (table) where the snake and food are placed\n",
    "        self.dir = dir  # The current direction of the snake (d1, d2)\n",
    "        self.snake_list = snake_list  # List of coordinates representing the snake's body\n",
    "        self.score = score  # The player's current score\n",
    "\n",
    "    \n",
    "    def update(self):\n",
    "        \"Method that updates the game state (snake movement, food generation, collision detection)\"\n",
    "        d1, d2 = self.dir  # The direction of the snake (change in x and y)\n",
    "        current = list.copy(self.snake_list)  # Make a copy of the snake to track its previous state\n",
    "        reward = -10  # Default reward (negative for game over, increased when food is eaten)\n",
    "\n",
    "        # Check if there's food on the grid, and if not, place new food randomly\n",
    "        if not any(\"F\" in self.tab[i] for i in range(n)):\n",
    "            f1, f2 = random.randint(0, n-1), random.randint(0, m-1)\n",
    "            # Ensure that the food is not placed on the snake\n",
    "            while (f1, f2) in self.snake_list:\n",
    "                f1, f2 = random.randint(0, n-1), random.randint(0, m-1)\n",
    "            self.tab[f1, f2] = \"F\"  # Place food ('F') on the grid\n",
    "\n",
    "        # Loop through each segment of the snake\n",
    "        for i in range(len(self.snake_list)):\n",
    "            x, y = self.snake_list[i]  # Get current snake segment's coordinates\n",
    "\n",
    "            if i == 0:  # Head of the snake (first segment)\n",
    "                d1,d2=self.dir\n",
    "                xf, yf = x+d1,y+d2  # Get the next position of the head based on the direction\n",
    "\n",
    "                # Check for collision with snake body or wall\n",
    "                if xf not in range(n) or yf not in range(m) or self.tab[xf, yf] == \"S\"  :\n",
    "                    #print(\"Game Over! Score: \" + str(self.score))  # Game over if collision occurs\n",
    "                    return True, -10  # Return game over flag and penalty reward\n",
    "\n",
    "                elif self.tab[xf, yf] == \"F\":  # Check if the head eats food\n",
    "                    a, b = self.snake_list[-1]  # Get the last segment of the snake (tail)\n",
    "                    # Extend the snake by adding a new segment at the tail's previous position\n",
    "                    if a+d1 in range(n) and b+d2 in range(m):\n",
    "                        self.snake_list.append((a+d1,b+d2))\n",
    "                    # Place new food randomly after eating\n",
    "                    f1, f2 = random.randint(0, n-1), random.randint(0, m-1)\n",
    "                    while (f1, f2) in self.snake_list:\n",
    "                        f1, f2 = random.randint(0, n-1), random.randint(0, m-1)\n",
    "                    self.tab[f1, f2] = \"F\"\n",
    "                    self.score += 10  # Increase the score for eating food\n",
    "                    reward = 10  # Reward for eating food\n",
    "\n",
    "                # Update the snake's head position\n",
    "                self.snake_list[i] = xf, yf  # Move the head to the new position\n",
    "                self.tab[xf, yf] = \"S\"  # Mark the new head position on the grid\n",
    "                self.tab[x, y] = \"X\"  # Mark the previous head position as visited\n",
    "\n",
    "                # Loop through the grid to find the food and assign a slight penalty (-0.1) for not eating it yet\n",
    "                for k in range(n):\n",
    "                    for l in range(m):\n",
    "                        if self.tab[k, l] == \"F\":\n",
    "                            f1, f2 = k, l\n",
    "                            reward = -0.1\n",
    "\n",
    "            else:  # Body of the snake (all other segments)\n",
    "                xprev, yprev = current[i - 1]  # Move each body segment to the position of the segment ahead\n",
    "                self.snake_list[i] = xprev, yprev\n",
    "                self.tab[xprev, yprev] = \"S\"  # Mark the new body segment position\n",
    "                self.tab[x, y] = \"X\"  # Mark the previous body segment position as visited\n",
    "\n",
    "        # Check if there's food on the grid, and if not, place new food randomly\n",
    "        if not any(\"F\" in self.tab[i] for i in range(n)):\n",
    "            f1, f2 = random.randint(0, n-1), random.randint(0, m-1)\n",
    "            # Ensure that the food is not placed on the snake\n",
    "            while (f1, f2) in self.snake_list:\n",
    "                f1, f2 = random.randint(0, n-1), random.randint(0, m-1)\n",
    "            self.tab[f1, f2] = \"F\"  # Place food ('F') on the grid\n",
    "        \n",
    "        return False, reward  # Return no game over and the current reward\n",
    "\n",
    "\n",
    "\n",
    "def draw(game):\n",
    "    \"Function to draw the game on the screen using pygame\"\n",
    "    SURF.fill(gris_clair)  # Fill the screen with a light gray background\n",
    "\n",
    "    # Loop through the grid to draw snake, food, and empty cells\n",
    "    for j in range(m):\n",
    "        for i in range(n):\n",
    "            if game.tab[i, j] == \"S\":  # Draw the snake\n",
    "                \n",
    "                if (i,j)!=game.snake_list[0]:\n",
    "                    clr=noir\n",
    "                else: \n",
    "                    clr=(0,255,0)\n",
    "                pg.draw.rect(SURF, clr, [x0 + i * (x1 - x0) / (n - 1), y0 + (m - 1 - j) * (y1 - y0) / (m - 1), (x1 - x0) / n, (y1 - y0) / m])\n",
    "            elif game.tab[i, j] == \"F\":  # Draw the food\n",
    "                pg.draw.rect(SURF, rouge, [x0 + i * (x1 - x0) / (n - 1), y0 + (m - 1 - j) * (y1 - y0) / (m - 1), (x1 - x0) / n, (y1 - y0) / m])\n",
    "            else:  # Draw empty cells\n",
    "                pg.draw.rect(SURF, gris_fonce, [x0 + i * (x1 - x0) / (n - 1), y0 + (m - 1 - j) * (y1 - y0) / (m - 1), (x1 - x0) / n, (y1 - y0) / m])\n",
    "\n",
    "    # Render and display the score on the screen\n",
    "    img = font.render(\"Score: \" + str(game.score), True, noir)\n",
    "    SURF.blit(img, (900, 500))  # Display the score at the specified position\n",
    "    pg.display.update()  # Update the display with the new drawing\n"
   ]
  },
  {
   "cell_type": "markdown",
   "metadata": {},
   "source": [
    "### Main training loop "
   ]
  },
  {
   "cell_type": "code",
   "execution_count": null,
   "metadata": {},
   "outputs": [],
   "source": [
    "\n",
    "import numpy as np\n",
    "import random\n",
    "\n",
    "num_episodes=1000000\n",
    "\n",
    "\n",
    "#Generating random game states and labeling 'good' move (here we take the move that reduces the distance to the food)\n",
    "\n",
    "# Game State\n",
    "X=np.zeros((num_episodes,n,m,3))\n",
    "\n",
    "#Labels\n",
    "Y=np.zeros((num_episodes,4))\n",
    "\n",
    "\n",
    "for i in range(num_episodes):\n",
    "    \n",
    "    #Random snake head\n",
    "    o1,o2=np.random.randint(n),np.random.randint(m)\n",
    "    X[i,o1,o2,0]=1\n",
    "    \n",
    "    # Extending the snake by 1 in some random direction\n",
    "    d1,d2=random.choice([(0,1),(1,0),(-1,0),(0,-1)])\n",
    "    while(o1+d1 not in range(n) or o2+d2 not in range(m)):\n",
    "        d1,d2=random.choice([(0,1),(1,0),(-1,0),(0,-1)])\n",
    "    X[i,o1+d1,o2+d2,1]=1\n",
    "    l=[(o1,o2),(o1+d1,o2+d2)]\n",
    "    \n",
    "    #Finding empty spot to put the food cell in\n",
    "    f1,f2=np.random.randint(n),np.random.randint(m)\n",
    "    while((f1,f2) in l):\n",
    "        f1,f2=np.random.randint(n),np.random.randint(m)\n",
    "    X[i,f1,f2,2]=1\n",
    "    \n",
    "    #Finding the heuristically best direction and labelling the good direction as this one\n",
    "    possible_directions=[(0,1),(1,0),(-1,0),(0,-1)]\n",
    "    possible_directions=[(f1-(o1+x))**2+ (f2-(o2+y))**2 if (o1+x) in range(n) and (o2+y) in range(m) and X[i,o1+x,o2+y,1]!=1 else 1000 for (x,y) in possible_directions]\n",
    "    good_action=np.argmin(possible_directions)\n",
    "    \n",
    "    \n",
    "    Y[i,good_action]=1\n",
    "    \n",
    "\n",
    "\n",
    "#Fitting the randomly generated data\n",
    "model.fit(X, Y, epochs=1, batch_size=1)\n",
    "\n",
    "    \n",
    "    \n",
    "    "
   ]
  },
  {
   "cell_type": "code",
   "execution_count": 23,
   "metadata": {},
   "outputs": [],
   "source": [
    "def fit_fun(games,num_episodes):\n",
    "    \"X of dim : num_episodes n x m x 4\"\n",
    "    \"Function used to fit the model over the games in games\"\n",
    "    labels=np.zeros((num_episodes,4))\n",
    "    # Over all the games in games\n",
    "    for k in range(num_episodes):\n",
    "        \n",
    "        #Finding the food item \n",
    "        for i in range(n):\n",
    "            for j in range(m):\n",
    "                if games[k,i,j,2]==1:\n",
    "                    f1,f2=i,j\n",
    "                    \n",
    "        # Finding the heuristically best option for current gamestate\n",
    "        possible_directions=[(0,1),(1,0),(-1,0),(0,-1)]\n",
    "        possible_directions=[(f1-(o1+x))**2+ (f2-(o2+y))**2 if (o1+x) in range(n) and (o2+y) in range(m) and games[k,o1+x,o2+y,1]!=1 else 1000 for (x,y) in possible_directions]\n",
    "        good_action=np.argmin(possible_directions)\n",
    "        labels[k,good_action]=1\n",
    "        \n",
    "    #Fitting \n",
    "    model.fit(games,labels)"
   ]
  },
  {
   "cell_type": "code",
   "execution_count": 18,
   "metadata": {},
   "outputs": [
    {
     "name": "stdout",
     "output_type": "stream",
     "text": [
      "pygame 2.5.2 (SDL 2.28.3, Python 3.12.3)\n",
      "Hello from the pygame community. https://www.pygame.org/contribute.html\n"
     ]
    },
    {
     "name": "stderr",
     "output_type": "stream",
     "text": [
      "2024-10-03 20:47:14.443 Python[57821:1108572] WARNING: Secure coding is not enabled for restorable state! Enable secure coding by implementing NSApplicationDelegate.applicationSupportsSecureRestorableState: and returning YES.\n"
     ]
    }
   ],
   "source": [
    "import pygame as pg\n",
    "# Initialize Pygame\n",
    "pg.init()  # Initialize all the imported pygame modules\n",
    "SURF = pg.display.set_mode((1450, 1000))  # Set up the game window with resolution 1450x1000\n",
    "font = pg.font.SysFont(None, 30)  # Initialize the font to display the score\n",
    "\n",
    "# Colors used in the game\n",
    "gris_clair = (220, 220, 220)  # Light gray\n",
    "gris_fonce = (150, 150, 150)  # Dark gray\n",
    "noir = (0, 0, 0)  # Black\n",
    "rouge = (255, 0, 0)  # Red\n",
    "\n",
    "# Initial coordinates for the game area\n",
    "x0, y0 = 200, 150  # Top-left corner of the game grid\n",
    "x1, y1 = 800, 750  # Bottom-right corner of the game grid\n"
   ]
  },
  {
   "cell_type": "markdown",
   "metadata": {},
   "source": [
    "Visualising Snake and fine tuning network"
   ]
  },
  {
   "cell_type": "code",
   "execution_count": null,
   "metadata": {},
   "outputs": [],
   "source": [
    "import tqdm  #For loading bar\n",
    "\n",
    "\n",
    "num_games=10000\n",
    "\n",
    "# To transform string game matrix to cnn input\n",
    "def gametab_to_input(snake_list,food):\n",
    "    \n",
    "    # First dimension is to be able to fit into CNN as it requires four dimensions (first one corresponds to the number of games)\n",
    "    res=np.zeros((1,n,m,3))\n",
    "    f1,f2=food\n",
    "    x,y=snake_list[0]\n",
    "    res[0,x,y,0]=1\n",
    "    for i,j in snake_list[1:]:\n",
    "        res[0,i,j,1]=1\n",
    "    res[0,f1,f2,2]=1\n",
    "    return res\n",
    "\n",
    "\n",
    "# States where the net predicted the wrong ouput\n",
    "correction_list=[]\n",
    "\n",
    "#Keeping track of scores\n",
    "score_list=[]\n",
    "for i in tqdm.tqdm(range(num_games)):\n",
    "    \n",
    "    # Declaring new random game\n",
    "    new_tab=np.full((n,m),'X')\n",
    "    \n",
    "    #Random snake head and body\n",
    "    x,y=np.random.randint(n),np.random.randint(m)\n",
    "    poss_dir=[(0,1),(1,0),(-1,0),(0,-1)]\n",
    "    d1,d2=random.choice(poss_dir)\n",
    "    while(x-d1 not in range(n) or y-d2 not in range(m)):\n",
    "        d1,d2=random.choice(poss_dir)\n",
    "    new_snake=[(x,y),(x-d1,y-d2)]\n",
    "    new_tab[x,y]='S'\n",
    "    new_tab[x-d1,y-d2]='S'\n",
    "    \n",
    "    #Random food cell\n",
    "    f1,f2=np.random.randint(n),np.random.randint(m)\n",
    "    while(new_tab[f1,f2]=='S'):\n",
    "        f1,f2=np.random.randint(n),np.random.randint(m)\n",
    "    new_tab[f1,f2]='F'\n",
    "    \n",
    "    #New gamestate\n",
    "    new_game=Game(new_tab,(d1,d2),new_snake,0)\n",
    "    \n",
    "    done=False\n",
    "    timer=0\n",
    "    \n",
    "    while(not done):\n",
    "        j=len(correction_list)\n",
    "        #10 errors found (or 10 cases where game ended due to network missclassification)\n",
    "        if j==10:\n",
    "            \n",
    "            #Fitting to adjust network output\n",
    "            X=np.zeros((j,n,m,3))\n",
    "            for l in range(j):\n",
    "                X[l,:,:,:]=correction_list[l]\n",
    "            fit_fun(X,j)\n",
    "            correction_list=[]\n",
    "        timer+=1\n",
    "        \n",
    "        #snake head\n",
    "        x,y=new_game.snake_list[0]\n",
    "        \n",
    "        # If we get an 'infinite loop', we choose some random other action to get out of it\n",
    "        if timer>100:\n",
    "            \n",
    "            #Choosing a random direction\n",
    "            good_dir=[(o1,o2) for (o1,o2) in poss_dir if (o1+x) in range(n) and (o2+y) in range(m) and new_game.tab[x+o1,y+o2]!='S']\n",
    "            some_dir=random.choice(good_dir)\n",
    "            action=poss_dir.index(some_dir)\n",
    "            done=True\n",
    "            \n",
    "        else:    \n",
    "            \n",
    "            #Finding food cell\n",
    "            for i in range(n):\n",
    "                for j in range(m):\n",
    "                    if new_game.tab[i,j]=='F':\n",
    "                        f1,f2=i,j\n",
    "                        \n",
    "            #Finding predicted action for current gamestate\n",
    "            cnn_input=gametab_to_input(new_game.snake_list,(f1,f2))\n",
    "            action=model.predict(gametab_to_input(new_game.snake_list,(f1,f2)),verbose=0)\n",
    "        action=np.argmax(action)\n",
    "        new_dir=poss_dir[action]\n",
    "        new_game.dir=new_dir\n",
    "        \n",
    "        #Drawing gamestate\n",
    "        draw(new_game)\n",
    "        \n",
    "        \n",
    "        done,reward=new_game.update()\n",
    "        \n",
    "        # Game Over \n",
    "        if done==True:    \n",
    "            correction_list.append(cnn_input)\n",
    "            score_list.append(new_game.score)\n",
    "        \n",
    "        #This means that the snake found food ; we reset the timer because we're certain that\n",
    "        #we're not in an infinite loop\n",
    "        if reward>0:\n",
    "            \n",
    "            timer=0\n",
    "            \n",
    "        #Uncomment this to get slower game\n",
    "        #pg.time.wait(1)\n",
    "        \n",
    "        \n",
    "        \n",
    "        \n",
    "    "
   ]
  },
  {
   "cell_type": "markdown",
   "metadata": {},
   "source": [
    "Saving the model"
   ]
  },
  {
   "cell_type": "code",
   "execution_count": null,
   "metadata": {},
   "outputs": [],
   "source": [
    "import torch\n",
    "model.save_weights('/Users/Riyad/Documents/Perso_projects/Snake/Snake/model.weights.h5'.format(epoch=0))"
   ]
  }
 ],
 "metadata": {
  "kernelspec": {
   "display_name": "Python 3",
   "language": "python",
   "name": "python3"
  },
  "language_info": {
   "codemirror_mode": {
    "name": "ipython",
    "version": 3
   },
   "file_extension": ".py",
   "mimetype": "text/x-python",
   "name": "python",
   "nbconvert_exporter": "python",
   "pygments_lexer": "ipython3",
   "version": "3.12.3"
  }
 },
 "nbformat": 4,
 "nbformat_minor": 2
}
